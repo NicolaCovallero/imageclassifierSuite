{
 "cells": [
  {
   "cell_type": "code",
   "execution_count": 1,
   "metadata": {
    "colab": {},
    "colab_type": "code",
    "id": "PXsyPwW9ERPJ"
   },
   "outputs": [
    {
     "name": "stderr",
     "output_type": "stream",
     "text": [
      "Using TensorFlow backend.\n"
     ]
    }
   ],
   "source": [
    "from tensorflow.keras.datasets import cifar10\n",
    "import tensorflow as tf\n",
    "from keras.preprocessing.image import ImageDataGenerator\n",
    "import matplotlib.pyplot as plt\n",
    "from sklearn.model_selection import train_test_split\n",
    "from sklearn.metrics import confusion_matrix\n",
    "from sklearn.preprocessing import LabelBinarizer\n",
    "from sklearn.metrics import classification_report\n",
    "\n",
    "\n",
    "\n",
    "\n",
    "\n"
   ]
  },
  {
   "cell_type": "code",
   "execution_count": 2,
   "metadata": {
    "colab": {
     "base_uri": "https://localhost:8080/",
     "height": 102
    },
    "colab_type": "code",
    "executionInfo": {
     "elapsed": 1176,
     "status": "ok",
     "timestamp": 1570973718667,
     "user": {
      "displayName": "Walid Ahmed",
      "photoUrl": "https://lh3.googleusercontent.com/a-/AAuE7mBshZntmrvXzuSZoV4MN7gJ-5WfcGfNemS--_2WtA=s64",
      "userId": "16357295544570684591"
     },
     "user_tz": 240
    },
    "id": "kbS3eEg1EA9c",
    "outputId": "4b693473-b1d1-45d2-a6a4-b17289776981"
   },
   "outputs": [
    {
     "name": "stdout",
     "output_type": "stream",
     "text": [
      "[INFO] Original cifar10 dataset of trainData shape (50000, 32, 32, 3)\n",
      "[INFO] Original cifar10 dataset of trainLabels shape (50000, 1)\n",
      "[INFO] Original cifar10 dataset of testData shape (10000, 32, 32, 3)\n",
      "[INFO] Original cifar10 dataset of testLabels shape (10000, 1)\n",
      "[INFO] labels in cifar10 are ['airplane', 'automobile', 'bird', 'cat', 'deer', 'dog', 'frog', 'horse', 'ship', 'truck']\n"
     ]
    }
   ],
   "source": [
    "    #load cifar10 dataset\n",
    "\t(trainData, trainLabels), (testData, testLabels) = cifar10.load_data()\n",
    "\tlabels =  ['airplane','automobile','bird','cat','deer','dog','frog','horse','ship','truck']\n",
    "\tnumPfSamples,imgWidth,imgHeight,numOfchannels=trainData.shape\n",
    "\tprint(\"[INFO] Original cifar10 dataset of trainData shape {}\".format(trainData.shape))\n",
    "\tprint(\"[INFO] Original cifar10 dataset of trainLabels shape {}\".format(trainLabels.shape))\n",
    "\tprint(\"[INFO] Original cifar10 dataset of testData shape {}\".format(testData.shape))\n",
    "\tprint(\"[INFO] Original cifar10 dataset of testLabels shape {}\".format(testLabels.shape))\n",
    "\tprint(\"[INFO] labels in cifar10 are {}\".format(labels)) \n",
    "\t(x,y)=6,7"
   ]
  },
  {
   "cell_type": "code",
   "execution_count": null,
   "metadata": {},
   "outputs": [],
   "source": [
    "\tprint(trainLabels)"
   ]
  },
  {
   "cell_type": "code",
   "execution_count": 3,
   "metadata": {
    "colab": {
     "base_uri": "https://localhost:8080/",
     "height": 34
    },
    "colab_type": "code",
    "executionInfo": {
     "elapsed": 885,
     "status": "ok",
     "timestamp": 1570972274558,
     "user": {
      "displayName": "Walid Ahmed",
      "photoUrl": "https://lh3.googleusercontent.com/a-/AAuE7mBshZntmrvXzuSZoV4MN7gJ-5WfcGfNemS--_2WtA=s64",
      "userId": "16357295544570684591"
     },
     "user_tz": 240
    },
    "id": "TXLA0fGsEcNW",
    "outputId": "fad7d9d6-ee88-4ae2-8093-2ab51f386683"
   },
   "outputs": [
    {
     "name": "stdout",
     "output_type": "stream",
     "text": [
      "[INFO] Data ready for training\n"
     ]
    }
   ],
   "source": [
    "\ttrainX = trainData.reshape((trainData.shape[0], imgWidth,imgHeight,  numOfchannels))\n",
    "\ttestX = testData.reshape((testData.shape[0], imgWidth,imgHeight, numOfchannels))\n",
    "\ttrainX = trainX.astype(\"float32\") / 255.0\n",
    "\ttestX = testX.astype(\"float32\") / 255.0\n",
    "\ttrainLabels=trainLabels.astype(str)\n",
    "\ttestLabels=testLabels.astype(str)\n",
    "\tlb = LabelBinarizer()\n",
    "\ttrainY = lb.fit_transform(trainLabels)\n",
    "\ttestY = lb.fit_transform(testLabels)\n",
    "\tprint(\"[INFO] Data ready for training\")"
   ]
  },
  {
   "cell_type": "code",
   "execution_count": 4,
   "metadata": {
    "colab": {},
    "colab_type": "code",
    "id": "f9oSOpF8FbzC"
   },
   "outputs": [],
   "source": [
    "\t#tuning parameters\n",
    "\tweight_decay = 1e-4\n",
    "\tINIT_LR = 1e-3\n",
    "\tEPOCHS=25\n",
    "\tBS=32"
   ]
  },
  {
   "cell_type": "code",
   "execution_count": 5,
   "metadata": {
    "colab": {
     "base_uri": "https://localhost:8080/",
     "height": 1000
    },
    "colab_type": "code",
    "executionInfo": {
     "elapsed": 994,
     "status": "ok",
     "timestamp": 1570972278523,
     "user": {
      "displayName": "Walid Ahmed",
      "photoUrl": "https://lh3.googleusercontent.com/a-/AAuE7mBshZntmrvXzuSZoV4MN7gJ-5WfcGfNemS--_2WtA=s64",
      "userId": "16357295544570684591"
     },
     "user_tz": 240
    },
    "id": "X4ewGnDzFokT",
    "outputId": "88c8e39a-bc72-48e1-d0ff-e1a542914a48"
   },
   "outputs": [
    {
     "name": "stdout",
     "output_type": "stream",
     "text": [
      "WARNING:tensorflow:From /Users/walidahmed/anaconda2/lib/python3.6/site-packages/tensorflow/python/ops/resource_variable_ops.py:435: colocate_with (from tensorflow.python.framework.ops) is deprecated and will be removed in a future version.\n",
      "Instructions for updating:\n",
      "Colocations handled automatically by placer.\n",
      "WARNING:tensorflow:From /Users/walidahmed/anaconda2/lib/python3.6/site-packages/tensorflow/python/keras/layers/core.py:143: calling dropout (from tensorflow.python.ops.nn_ops) with keep_prob is deprecated and will be removed in a future version.\n",
      "Instructions for updating:\n",
      "Please use `rate` instead of `keep_prob`. Rate should be set to `rate = 1 - keep_prob`.\n",
      "_________________________________________________________________\n",
      "Layer (type)                 Output Shape              Param #   \n",
      "=================================================================\n",
      "conv2d (Conv2D)              (None, 32, 32, 32)        896       \n",
      "_________________________________________________________________\n",
      "activation (Activation)      (None, 32, 32, 32)        0         \n",
      "_________________________________________________________________\n",
      "batch_normalization_v1 (Batc (None, 32, 32, 32)        128       \n",
      "_________________________________________________________________\n",
      "conv2d_1 (Conv2D)            (None, 32, 32, 32)        9248      \n",
      "_________________________________________________________________\n",
      "activation_1 (Activation)    (None, 32, 32, 32)        0         \n",
      "_________________________________________________________________\n",
      "batch_normalization_v1_1 (Ba (None, 32, 32, 32)        128       \n",
      "_________________________________________________________________\n",
      "max_pooling2d (MaxPooling2D) (None, 16, 16, 32)        0         \n",
      "_________________________________________________________________\n",
      "dropout (Dropout)            (None, 16, 16, 32)        0         \n",
      "_________________________________________________________________\n",
      "conv2d_2 (Conv2D)            (None, 16, 16, 64)        18496     \n",
      "_________________________________________________________________\n",
      "activation_2 (Activation)    (None, 16, 16, 64)        0         \n",
      "_________________________________________________________________\n",
      "batch_normalization_v1_2 (Ba (None, 16, 16, 64)        256       \n",
      "_________________________________________________________________\n",
      "conv2d_3 (Conv2D)            (None, 16, 16, 64)        36928     \n",
      "_________________________________________________________________\n",
      "activation_3 (Activation)    (None, 16, 16, 64)        0         \n",
      "_________________________________________________________________\n",
      "batch_normalization_v1_3 (Ba (None, 16, 16, 64)        256       \n",
      "_________________________________________________________________\n",
      "max_pooling2d_1 (MaxPooling2 (None, 8, 8, 64)          0         \n",
      "_________________________________________________________________\n",
      "dropout_1 (Dropout)          (None, 8, 8, 64)          0         \n",
      "_________________________________________________________________\n",
      "conv2d_4 (Conv2D)            (None, 8, 8, 128)         73856     \n",
      "_________________________________________________________________\n",
      "activation_4 (Activation)    (None, 8, 8, 128)         0         \n",
      "_________________________________________________________________\n",
      "batch_normalization_v1_4 (Ba (None, 8, 8, 128)         512       \n",
      "_________________________________________________________________\n",
      "conv2d_5 (Conv2D)            (None, 8, 8, 128)         147584    \n",
      "_________________________________________________________________\n",
      "activation_5 (Activation)    (None, 8, 8, 128)         0         \n",
      "_________________________________________________________________\n",
      "batch_normalization_v1_5 (Ba (None, 8, 8, 128)         512       \n",
      "_________________________________________________________________\n",
      "max_pooling2d_2 (MaxPooling2 (None, 4, 4, 128)         0         \n",
      "_________________________________________________________________\n",
      "dropout_2 (Dropout)          (None, 4, 4, 128)         0         \n",
      "_________________________________________________________________\n",
      "flatten (Flatten)            (None, 2048)              0         \n",
      "_________________________________________________________________\n",
      "dense (Dense)                (None, 10)                20490     \n",
      "=================================================================\n",
      "Total params: 309,290\n",
      "Trainable params: 308,394\n",
      "Non-trainable params: 896\n",
      "_________________________________________________________________\n"
     ]
    }
   ],
   "source": [
    "\t#define model\n",
    "\tmodel = tf.keras.models.Sequential()\n",
    "\tmodel.add(tf.keras.layers.Conv2D(32, (3,3), padding='same', kernel_regularizer=tf.keras.regularizers.l2(weight_decay), input_shape=(32,32,3)))\n",
    "\tmodel.add(tf.keras.layers.Activation('elu'))\n",
    "\tmodel.add(tf.keras.layers.BatchNormalization())\n",
    "\tmodel.add(tf.keras.layers.Conv2D(32, (3,3), padding='same', kernel_regularizer=tf.keras.regularizers.l2(weight_decay)))\n",
    "\tmodel.add(tf.keras.layers.Activation('elu'))\n",
    "\tmodel.add(tf.keras.layers.BatchNormalization())\n",
    "\tmodel.add(tf.keras.layers.MaxPooling2D(pool_size=(2,2)))\n",
    "\tmodel.add(tf.keras.layers.Dropout(0.2))\t \n",
    "\tmodel.add(tf.keras.layers.Conv2D(64, (3,3), padding='same', kernel_regularizer=tf.keras.regularizers.l2(weight_decay)))\n",
    "\tmodel.add(tf.keras.layers.Activation('elu'))\n",
    "\tmodel.add(tf.keras.layers.BatchNormalization())\n",
    "\tmodel.add(tf.keras.layers.Conv2D(64, (3,3), padding='same', kernel_regularizer=tf.keras.regularizers.l2(weight_decay)))\n",
    "\tmodel.add(tf.keras.layers.Activation('elu'))\n",
    "\tmodel.add(tf.keras.layers.BatchNormalization())\n",
    "\tmodel.add(tf.keras.layers.MaxPooling2D(pool_size=(2,2)))\n",
    "\tmodel.add(tf.keras.layers.Dropout(0.3))\t \n",
    "\tmodel.add(tf.keras.layers.Conv2D(128, (3,3), padding='same', kernel_regularizer=tf.keras.regularizers.l2(weight_decay)))\n",
    "\tmodel.add(tf.keras.layers.Activation('elu'))\n",
    "\tmodel.add(tf.keras.layers.BatchNormalization())\n",
    "\tmodel.add(tf.keras.layers.Conv2D(128, (3,3), padding='same', kernel_regularizer=tf.keras.regularizers.l2(weight_decay)))\n",
    "\tmodel.add(tf.keras.layers.Activation('elu'))\n",
    "\tmodel.add(tf.keras.layers.BatchNormalization())\n",
    "\tmodel.add(tf.keras.layers.MaxPooling2D(pool_size=(2,2)))\n",
    "\tmodel.add(tf.keras.layers.Dropout(0.4))\n",
    "\tmodel.add(tf.keras.layers.Flatten())\n",
    "\tmodel.add(tf.keras.layers.Dense(10, activation=\"softmax\"))\n",
    "\tmodel.summary()"
   ]
  },
  {
   "cell_type": "code",
   "execution_count": 7,
   "metadata": {
    "colab": {
     "base_uri": "https://localhost:8080/",
     "height": 34
    },
    "colab_type": "code",
    "executionInfo": {
     "elapsed": 449,
     "status": "ok",
     "timestamp": 1570972283016,
     "user": {
      "displayName": "Walid Ahmed",
      "photoUrl": "https://lh3.googleusercontent.com/a-/AAuE7mBshZntmrvXzuSZoV4MN7gJ-5WfcGfNemS--_2WtA=s64",
      "userId": "16357295544570684591"
     },
     "user_tz": 240
    },
    "id": "_i6FriaTGETN",
    "outputId": "dc8d7bd2-4fde-4c6e-9cba-f430e1897abb"
   },
   "outputs": [
    {
     "name": "stdout",
     "output_type": "stream",
     "text": [
      "[INFO] Model compiled\n"
     ]
    }
   ],
   "source": [
    "    #compile model\n",
    "\topt = tf.keras.optimizers.Adam(lr=INIT_LR, decay=INIT_LR / EPOCHS)\n",
    "\tmodel.compile(loss=\"categorical_crossentropy\", optimizer=opt, metrics=[\"accuracy\"])\n",
    "\tprint(\"[INFO] Model compiled\")"
   ]
  },
  {
   "cell_type": "code",
   "execution_count": null,
   "metadata": {
    "colab": {
     "base_uri": "https://localhost:8080/",
     "height": 1000
    },
    "colab_type": "code",
    "executionInfo": {
     "elapsed": 1177989,
     "status": "ok",
     "timestamp": 1570973462232,
     "user": {
      "displayName": "Walid Ahmed",
      "photoUrl": "https://lh3.googleusercontent.com/a-/AAuE7mBshZntmrvXzuSZoV4MN7gJ-5WfcGfNemS--_2WtA=s64",
      "userId": "16357295544570684591"
     },
     "user_tz": 240
    },
    "id": "xQOD_B-yIF5g",
    "outputId": "d9c0f715-cd3b-49e3-e2b7-5b15c1ed5b95"
   },
   "outputs": [
    {
     "name": "stdout",
     "output_type": "stream",
     "text": [
      "[INFO] training network...\n",
      "WARNING:tensorflow:From /Users/walidahmed/anaconda2/lib/python3.6/site-packages/tensorflow/python/ops/math_ops.py:3066: to_int32 (from tensorflow.python.ops.math_ops) is deprecated and will be removed in a future version.\n",
      "Instructions for updating:\n",
      "Use tf.cast instead.\n",
      "Epoch 1/25\n",
      "10000/10000 [==============================] - 168s 17ms/sample - loss: 1.1925 - acc: 0.6323\n",
      "1563/1563 [==============================] - 1239s 793ms/step - loss: 1.6581 - acc: 0.4873 - val_loss: 1.1927 - val_acc: 0.6323\n",
      "Epoch 2/25\n",
      "10000/10000 [==============================] - 104s 10ms/sample - loss: 0.9440 - acc: 0.6960\n",
      "1563/1563 [==============================] - 1404s 898ms/step - loss: 1.0382 - acc: 0.6632 - val_loss: 0.9446 - val_acc: 0.6960\n",
      "Epoch 3/25\n",
      "10000/10000 [==============================] - 89s 9ms/sample - loss: 0.8608 - acc: 0.7254\n",
      "1563/1563 [==============================] - 1098s 703ms/step - loss: 0.8823 - acc: 0.7173 - val_loss: 0.8605 - val_acc: 0.7254\n",
      "Epoch 4/25\n",
      "10000/10000 [==============================] - 110s 11ms/sample - loss: 0.7148 - acc: 0.7851\n",
      "1563/1563 [==============================] - 1146s 733ms/step - loss: 0.7914 - acc: 0.7544 - val_loss: 0.7144 - val_acc: 0.7851\n",
      "Epoch 5/25\n",
      " 817/1563 [==============>...............] - ETA: 9:40 - loss: 0.7252 - acc: 0.7797"
     ]
    }
   ],
   "source": [
    "\t# train the network\n",
    "\tprint(\"[INFO] training network...\")\n",
    "\taug = ImageDataGenerator()\n",
    "\thistory = model.fit_generator(aug.flow(trainX, trainY, batch_size=BS),validation_data=(testX, testY), steps_per_epoch=len(trainX) // BS,epochs=EPOCHS, verbose=1)\n",
    "\tmodel.save(\"cifar10model.keras2\")\n",
    "\tprint(\"[INFO] Model saved to {}\".format(\"cifar10model.keras2\"))"
   ]
  },
  {
   "cell_type": "code",
   "execution_count": null,
   "metadata": {
    "colab": {
     "base_uri": "https://localhost:8080/",
     "height": 299
    },
    "colab_type": "code",
    "executionInfo": {
     "elapsed": 1173621,
     "status": "ok",
     "timestamp": 1570973462527,
     "user": {
      "displayName": "Walid Ahmed",
      "photoUrl": "https://lh3.googleusercontent.com/a-/AAuE7mBshZntmrvXzuSZoV4MN7gJ-5WfcGfNemS--_2WtA=s64",
      "userId": "16357295544570684591"
     },
     "user_tz": 240
    },
    "id": "x_DTjF9RIPRR",
    "outputId": "3ce2fddf-f73b-4d51-b15c-262e96fccab6"
   },
   "outputs": [],
   "source": [
    "\t#draw training curves\t\n",
    "\tacc      = history.history[     'acc' ]\n",
    "\tval_acc  = history.history[ 'val_acc' ]\n",
    "\tloss     = history.history[    'loss' ]\n",
    "\tval_loss = history.history['val_loss' ]   \n",
    "\tepochs   = range(len(acc)) # Get number of epochs\n",
    "\tplt.style.use(\"ggplot\")\n",
    "\tplt.figure()\n",
    "\tplt.plot(epochs, loss, label=\"train_loss\")\n",
    "\tplt.plot(epochs, val_loss, label=\"val_loss\")\n",
    "\tplt.plot(epochs, acc, label=\"train_acc\")\n",
    "\tplt.plot(epochs, val_acc, label=\"val_acc\")\n",
    "\tplt.title(\"CIFAR10 Training Loss and Accuracy\")\n",
    "\tplt.xlabel(\"Epoch #\")\n",
    "\tplt.ylabel(\"Loss/Accuracy\")\n",
    "\tplt.legend(loc=\"lower left\")\n",
    "\tplt.show()"
   ]
  },
  {
   "cell_type": "code",
   "execution_count": null,
   "metadata": {
    "colab": {
     "base_uri": "https://localhost:8080/",
     "height": 510
    },
    "colab_type": "code",
    "executionInfo": {
     "elapsed": 2293,
     "status": "ok",
     "timestamp": 1570973603787,
     "user": {
      "displayName": "Walid Ahmed",
      "photoUrl": "https://lh3.googleusercontent.com/a-/AAuE7mBshZntmrvXzuSZoV4MN7gJ-5WfcGfNemS--_2WtA=s64",
      "userId": "16357295544570684591"
     },
     "user_tz": 240
    },
    "id": "pslizwVrLbxH",
    "outputId": "e0f40e56-acfe-467f-d0a2-3df4e9142a61"
   },
   "outputs": [],
   "source": [
    "\t# evaluate the network\n",
    "\tprint(\"[INFO] evaluating network...\")\n",
    "\tpredictions = model.predict(testX, batch_size=32)\n",
    "\ty_true=testY.argmax(axis=1)\n",
    "\ty_pred=predictions.argmax(axis=1)\n",
    "\tprint(classification_report(y_true,y_pred, target_names=labels))\n",
    "\tprint(confusion_matrix(y_true, y_pred))\n",
    "\tprint(labels)"
   ]
  },
  {
   "cell_type": "code",
   "execution_count": null,
   "metadata": {
    "colab": {},
    "colab_type": "code",
    "id": "7Q3FMZ_EIUxQ"
   },
   "outputs": [],
   "source": []
  }
 ],
 "metadata": {
  "accelerator": "GPU",
  "colab": {
   "name": "trainCIFAR10.ipynb",
   "provenance": []
  },
  "kernelspec": {
   "display_name": "Python 3",
   "language": "python",
   "name": "python3"
  },
  "language_info": {
   "codemirror_mode": {
    "name": "ipython",
    "version": 3
   },
   "file_extension": ".py",
   "mimetype": "text/x-python",
   "name": "python",
   "nbconvert_exporter": "python",
   "pygments_lexer": "ipython3",
   "version": "3.6.8"
  }
 },
 "nbformat": 4,
 "nbformat_minor": 1
}
