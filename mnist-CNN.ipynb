{
 "cells": [
  {
   "cell_type": "markdown",
   "metadata": {
    "colab_type": "text",
    "id": "rX8mhOLljYeM"
   },
   "source": [
    "# Training MNIST with CNN\n"
   ]
  },
  {
   "cell_type": "code",
   "execution_count": 1,
   "metadata": {
    "cellView": "form",
    "colab": {},
    "colab_type": "code",
    "id": "BZSlp3DAjdYf"
   },
   "outputs": [
    {
     "name": "stderr",
     "output_type": "stream",
     "text": [
      "Using TensorFlow backend.\n"
     ]
    },
    {
     "name": "stdout",
     "output_type": "stream",
     "text": [
      "[INFO] All packages imported successfully\n"
     ]
    }
   ],
   "source": [
    "import tensorflow as tf\n",
    "import matplotlib.pyplot as plt\n",
    "from tensorflow.keras.datasets import mnist\n",
    "from keras.utils import np_utils\n",
    "from sklearn.preprocessing import LabelBinarizer\n",
    "from sklearn.metrics import classification_report\n",
    "from keras.preprocessing.image import img_to_array\n",
    "import numpy as np\n",
    "from sklearn.metrics import confusion_matrix\n",
    "import sklearn\n",
    "import cv2\n",
    "print(\"[INFO] All packages imported successfully\")\n"
   ]
  },
  {
   "cell_type": "code",
   "execution_count": 2,
   "metadata": {
    "colab": {},
    "colab_type": "code",
    "id": "7FP5258xjs-v"
   },
   "outputs": [
    {
     "name": "stdout",
     "output_type": "stream",
     "text": [
      "[INFO] Original mnist dataset of trainData shape (60000, 28, 28)\n",
      "[INFO] Original mnist dataset of trainLabels shape (60000,)\n",
      "[INFO] Original mnist dataset of testData shape (10000, 28, 28)\n",
      "[INFO] Original mnist dataset of testLabels shape (10000,)\n"
     ]
    }
   ],
   "source": [
    "#Load MNIST dataset\n",
    "mnist = tf.keras.datasets.mnist\n",
    "\n",
    "(trainX, trainY), (testX, testY) = mnist.load_data()\n",
    "trainX, testX = trainX / 255.0, testX / 255.0\n",
    "print(\"[INFO] Original {} dataset of trainData shape {}\".format(\"mnist\",trainX.shape))\n",
    "print(\"[INFO] Original {} dataset of trainLabels shape {}\".format(\"mnist\",trainY.shape))\n",
    "print(\"[INFO] Original {} dataset of testData shape {}\".format(\"mnist\",testX.shape))\n",
    "print(\"[INFO] Original {} dataset of testLabels shape {}\".format(\"mnist\",testY.shape))\n",
    "epochs_num=10"
   ]
  },
  {
   "cell_type": "code",
   "execution_count": 3,
   "metadata": {},
   "outputs": [
    {
     "name": "stdout",
     "output_type": "stream",
     "text": [
      "['0' '1' '2' '3' '4' '5' '6' '7' '8' '9']\n"
     ]
    }
   ],
   "source": [
    "#get labels from dataset\n",
    "labels =  sklearn.utils.multiclass.unique_labels(trainY)\n",
    "labels=labels.astype(str)\n",
    "print(labels)"
   ]
  },
  {
   "cell_type": "code",
   "execution_count": 4,
   "metadata": {},
   "outputs": [],
   "source": [
    "#function to draw grid of images\n",
    "def drarwGridOfImagesFromImagesData(images):\n",
    "\n",
    "  # Parameters for our graph; we'll output images in a 4x4 configuration\n",
    "  nrows = 4\n",
    "  ncols = 4\n",
    "\n",
    "  pic_index = 0 # Index for iterating over images\n",
    "\n",
    "  #display a batch of 4*4 pictures\n",
    "\n",
    "  # Set up matplotlib fig, and size it to fit 4x4 pics\n",
    "  fig = plt.gcf()\n",
    "  fig.set_size_inches(ncols*4, nrows*4)\n",
    "\n",
    "  for i in range(16):\n",
    "    # Set up subplot; subplot indices start at 1\n",
    "    sp = plt.subplot(nrows, ncols, i + 1)\n",
    "    sp.axis('Off') # Don't show axes (or gridlines)\n",
    "    img = images[i]\n",
    "\n",
    "    plt.imshow(img)\n",
    "\n",
    "  plt.show()\n"
   ]
  },
  {
   "cell_type": "code",
   "execution_count": 10,
   "metadata": {},
   "outputs": [
    {
     "data": {
      "image/png": "[encoded data removed]",
      "text/plain": [
       "<Figure size 1152x1152 with 16 Axes>"
      ]
     },
     "metadata": {
      "needs_background": "light"
     },
     "output_type": "display_data"
    }
   ],
   "source": [
    "#Prepare and draw images in grid \n",
    "images=[]\n",
    "for  i in range(16):\n",
    "    image=trainX[i]\n",
    "    image = cv2.merge([image] * 3)\n",
    "    images.append(image)\n",
    "\n",
    "drarwGridOfImagesFromImagesData(images)"
   ]
  },
  {
   "cell_type": "code",
   "execution_count": 5,
   "metadata": {},
   "outputs": [
    {
     "name": "stdout",
     "output_type": "stream",
     "text": [
      "[INFO]  trainData shape (60000, 28, 28, 1)\n",
      "[INFO]  testData shape (10000, 28, 28, 1)\n"
     ]
    }
   ],
   "source": [
    "trainX = np.expand_dims(trainX, axis=-1)\n",
    "testX = np.expand_dims(testX, axis=-1)\n",
    "print(\"[INFO]  trainData shape {}\".format(trainX.shape))\n",
    "print(\"[INFO]  testData shape {}\".format(testX.shape))"
   ]
  },
  {
   "cell_type": "code",
   "execution_count": 7,
   "metadata": {},
   "outputs": [
    {
     "name": "stdout",
     "output_type": "stream",
     "text": [
      "Model: \"sequential\"\n",
      "_________________________________________________________________\n",
      "Layer (type)                 Output Shape              Param #   \n",
      "=================================================================\n",
      "conv2d (Conv2D)              (None, 26, 26, 16)        160       \n",
      "_________________________________________________________________\n",
      "max_pooling2d (MaxPooling2D) (None, 13, 13, 16)        0         \n",
      "_________________________________________________________________\n",
      "conv2d_1 (Conv2D)            (None, 11, 11, 32)        4640      \n",
      "_________________________________________________________________\n",
      "max_pooling2d_1 (MaxPooling2 (None, 5, 5, 32)          0         \n",
      "_________________________________________________________________\n",
      "conv2d_2 (Conv2D)            (None, 3, 3, 64)          18496     \n",
      "_________________________________________________________________\n",
      "max_pooling2d_2 (MaxPooling2 (None, 1, 1, 64)          0         \n",
      "_________________________________________________________________\n",
      "flatten (Flatten)            (None, 64)                0         \n",
      "_________________________________________________________________\n",
      "dense (Dense)                (None, 512)               33280     \n",
      "_________________________________________________________________\n",
      "dense_1 (Dense)              (None, 10)                5130      \n",
      "=================================================================\n",
      "Total params: 61,706\n",
      "Trainable params: 61,706\n",
      "Non-trainable params: 0\n",
      "_________________________________________________________________\n"
     ]
    }
   ],
   "source": [
    "model = tf.keras.models.Sequential([\n",
    "# Note the input shape is the desired size of the image 150x150 with 3 bytes color\n",
    "tf.keras.layers.Conv2D(16, (3,3), activation='relu', input_shape=(28,28, 1)),\n",
    "tf.keras.layers.MaxPooling2D(2,2),\n",
    "tf.keras.layers.Conv2D(32, (3,3), activation='relu'),\n",
    "tf.keras.layers.MaxPooling2D(2,2), \n",
    "tf.keras.layers.Conv2D(64, (3,3), activation='relu'), \n",
    "tf.keras.layers.MaxPooling2D(2,2),\n",
    "# Flatten the results to feed into a DNN\n",
    "tf.keras.layers.Flatten(), \n",
    "# 512 neuron hidden layer\n",
    "tf.keras.layers.Dense(512, activation='relu'), \n",
    "tf.keras.layers.Dense(10, activation=\"softmax\")  ])\n",
    "model.summary()"
   ]
  },
  {
   "cell_type": "code",
   "execution_count": 9,
   "metadata": {},
   "outputs": [
    {
     "name": "stdout",
     "output_type": "stream",
     "text": [
      "[INFO] model compiled successfully\n"
     ]
    }
   ],
   "source": [
    "model.compile(optimizer='adam',\n",
    "              loss='sparse_categorical_crossentropy',\n",
    "              metrics=['accuracy'])\n",
    "print(\"[INFO] model compiled successfully\")"
   ]
  },
  {
   "cell_type": "code",
   "execution_count": 10,
   "metadata": {},
   "outputs": [
    {
     "name": "stdout",
     "output_type": "stream",
     "text": [
      "Train on 60000 samples, validate on 10000 samples\n",
      "Epoch 1/10\n",
      "60000/60000 [==============================] - 59s 985us/sample - loss: 0.2296 - accuracy: 0.9279 - val_loss: 0.0893 - val_accuracy: 0.9715\n",
      "Epoch 2/10\n",
      "60000/60000 [==============================] - 54s 906us/sample - loss: 0.0771 - accuracy: 0.9762 - val_loss: 0.0604 - val_accuracy: 0.9818\n",
      "Epoch 3/10\n",
      "60000/60000 [==============================] - 54s 895us/sample - loss: 0.0573 - accuracy: 0.9821 - val_loss: 0.0504 - val_accuracy: 0.9850\n",
      "Epoch 4/10\n",
      "60000/60000 [==============================] - 53s 887us/sample - loss: 0.0449 - accuracy: 0.9856 - val_loss: 0.0514 - val_accuracy: 0.9851\n",
      "Epoch 5/10\n",
      "60000/60000 [==============================] - 49s 814us/sample - loss: 0.0367 - accuracy: 0.9887 - val_loss: 0.0629 - val_accuracy: 0.9810\n",
      "Epoch 6/10\n",
      "60000/60000 [==============================] - 44s 727us/sample - loss: 0.0310 - accuracy: 0.9897 - val_loss: 0.0691 - val_accuracy: 0.9811\n",
      "Epoch 7/10\n",
      "60000/60000 [==============================] - 43s 721us/sample - loss: 0.0259 - accuracy: 0.9918 - val_loss: 0.0589 - val_accuracy: 0.9854\n",
      "Epoch 8/10\n",
      "60000/60000 [==============================] - 42s 705us/sample - loss: 0.0227 - accuracy: 0.9923 - val_loss: 0.0507 - val_accuracy: 0.9866\n",
      "Epoch 9/10\n",
      "60000/60000 [==============================] - 41s 689us/sample - loss: 0.0194 - accuracy: 0.9937 - val_loss: 0.0552 - val_accuracy: 0.9860\n",
      "Epoch 10/10\n",
      "60000/60000 [==============================] - 43s 712us/sample - loss: 0.0187 - accuracy: 0.9937 - val_loss: 0.0523 - val_accuracy: 0.9875\n"
     ]
    }
   ],
   "source": [
    "history=model.fit(trainX, trainY, validation_data=(testX, testY),epochs=epochs_num)"
   ]
  },
  {
   "cell_type": "code",
   "execution_count": 11,
   "metadata": {},
   "outputs": [],
   "source": [
    "#draw training curves\t\n",
    "acc      = history.history[     'accuracy' ]\n",
    "val_acc  = history.history[ 'val_accuracy' ]\n",
    "loss     = history.history[    'loss' ]\n",
    "val_loss = history.history['val_loss' ]   \n",
    "epochs   = range(len(acc)) # Get number of epochs\n",
    "plt.style.use(\"ggplot\")"
   ]
  },
  {
   "cell_type": "code",
   "execution_count": 12,
   "metadata": {},
   "outputs": [
    {
     "data": {
      "image/png": "[encoded data removed]",
      "text/plain": [
       "<Figure size 432x288 with 1 Axes>"
      ]
     },
     "metadata": {},
     "output_type": "display_data"
    }
   ],
   "source": [
    "plt.figure()\n",
    "plt.plot(epochs, loss, label=\"train_loss\")\n",
    "plt.plot(epochs, val_loss, label=\"val_loss\")\n",
    "plt.title(\"MNIST Training  Loss\")  \n",
    "epochs   = range(len(acc)) # Get number of epochs\n",
    "plt.style.use(\"ggplot\")\n",
    "plt.legend(loc=\"lower left\")\n",
    "plt.show()\n"
   ]
  },
  {
   "cell_type": "code",
   "execution_count": 13,
   "metadata": {},
   "outputs": [
    {
     "data": {
      "image/png": "[encoded data removed]",
      "text/plain": [
       "<Figure size 432x288 with 1 Axes>"
      ]
     },
     "metadata": {},
     "output_type": "display_data"
    }
   ],
   "source": [
    "plt.figure()\n",
    "plt.title(\"MNIST Training  Accuracy\")\n",
    "plt.xlabel(\"Epoch #\")\n",
    "plt.ylabel(\"Loss/Accuracy\")\n",
    "epochs   = range(len(acc)) # Get number of epochs\n",
    "plt.plot(epochs, acc, label=\"train_acc\")\n",
    "plt.plot(epochs, val_acc, label=\"val_acc\")\n",
    "plt.style.use(\"ggplot\")\n",
    "plt.legend(loc=\"lower left\")\n",
    "plt.show()\n"
   ]
  },
  {
   "cell_type": "code",
   "execution_count": 14,
   "metadata": {},
   "outputs": [
    {
     "name": "stdout",
     "output_type": "stream",
     "text": [
      "[INFO] evaluating network...\n"
     ]
    },
    {
     "ename": "AxisError",
     "evalue": "axis 1 is out of bounds for array of dimension 1",
     "output_type": "error",
     "traceback": [
      "\u001b[0;31m---------------------------------------------------------------------------\u001b[0m",
      "\u001b[0;31mAxisError\u001b[0m                                 Traceback (most recent call last)",
      "\u001b[0;32m<ipython-input-14-95d300cbb29a>\u001b[0m in \u001b[0;36m<module>\u001b[0;34m\u001b[0m\n\u001b[1;32m      2\u001b[0m \u001b[0mprint\u001b[0m\u001b[0;34m(\u001b[0m\u001b[0;34m\"[INFO] evaluating network...\"\u001b[0m\u001b[0;34m)\u001b[0m\u001b[0;34m\u001b[0m\u001b[0;34m\u001b[0m\u001b[0m\n\u001b[1;32m      3\u001b[0m \u001b[0mpredictions\u001b[0m \u001b[0;34m=\u001b[0m \u001b[0mmodel\u001b[0m\u001b[0;34m.\u001b[0m\u001b[0mpredict\u001b[0m\u001b[0;34m(\u001b[0m\u001b[0mtestX\u001b[0m\u001b[0;34m,\u001b[0m \u001b[0mbatch_size\u001b[0m\u001b[0;34m=\u001b[0m\u001b[0;36m32\u001b[0m\u001b[0;34m)\u001b[0m\u001b[0;34m\u001b[0m\u001b[0;34m\u001b[0m\u001b[0m\n\u001b[0;32m----> 4\u001b[0;31m \u001b[0my_true\u001b[0m\u001b[0;34m=\u001b[0m\u001b[0mtestY\u001b[0m\u001b[0;34m.\u001b[0m\u001b[0margmax\u001b[0m\u001b[0;34m(\u001b[0m\u001b[0maxis\u001b[0m\u001b[0;34m=\u001b[0m\u001b[0;36m1\u001b[0m\u001b[0;34m)\u001b[0m\u001b[0;34m\u001b[0m\u001b[0;34m\u001b[0m\u001b[0m\n\u001b[0m\u001b[1;32m      5\u001b[0m \u001b[0my_pred\u001b[0m\u001b[0;34m=\u001b[0m\u001b[0mpredictions\u001b[0m\u001b[0;34m.\u001b[0m\u001b[0margmax\u001b[0m\u001b[0;34m(\u001b[0m\u001b[0maxis\u001b[0m\u001b[0;34m=\u001b[0m\u001b[0;36m1\u001b[0m\u001b[0;34m)\u001b[0m\u001b[0;34m\u001b[0m\u001b[0;34m\u001b[0m\u001b[0m\n\u001b[1;32m      6\u001b[0m \u001b[0mprint\u001b[0m\u001b[0;34m(\u001b[0m\u001b[0mclassification_report\u001b[0m\u001b[0;34m(\u001b[0m\u001b[0my_true\u001b[0m\u001b[0;34m,\u001b[0m\u001b[0my_pred\u001b[0m\u001b[0;34m,\u001b[0m \u001b[0mtarget_names\u001b[0m\u001b[0;34m=\u001b[0m\u001b[0mlabels\u001b[0m\u001b[0;34m)\u001b[0m\u001b[0;34m)\u001b[0m\u001b[0;34m\u001b[0m\u001b[0;34m\u001b[0m\u001b[0m\n",
      "\u001b[0;31mAxisError\u001b[0m: axis 1 is out of bounds for array of dimension 1"
     ]
    }
   ],
   "source": [
    "# evaluate the network\n",
    "print(\"[INFO] evaluating network...\")\n",
    "predictions = model.predict(testX, batch_size=32)\n",
    "y_true=testY.argmax(axis=1)\n",
    "y_pred=predictions.argmax(axis=1)\n",
    "print(classification_report(y_true,y_pred, target_names=labels))\n",
    "print(confusion_matrix(y_true, y_pred))\n",
    "print(labels)"
   ]
  },
  {
   "cell_type": "code",
   "execution_count": null,
   "metadata": {},
   "outputs": [],
   "source": []
  }
 ],
 "metadata": {
  "colab": {
   "collapsed_sections": [
    "rX8mhOLljYeM"
   ],
   "name": "beginner.ipynb",
   "private_outputs": true,
   "provenance": [],
   "toc_visible": true
  },
  "kernelspec": {
   "display_name": "Python 3",
   "language": "python",
   "name": "python3"
  },
  "language_info": {
   "codemirror_mode": {
    "name": "ipython",
    "version": 3
   },
   "file_extension": ".py",
   "mimetype": "text/x-python",
   "name": "python",
   "nbconvert_exporter": "python",
   "pygments_lexer": "ipython3",
   "version": "3.6.8"
  }
 },
 "nbformat": 4,
 "nbformat_minor": 1
}
