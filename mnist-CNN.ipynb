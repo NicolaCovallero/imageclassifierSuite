{
 "cells": [
  {
   "cell_type": "markdown",
   "metadata": {
    "colab_type": "text",
    "id": "rX8mhOLljYeM"
   },
   "source": [
    "# Training MNIST with CNN\n"
   ]
  },
  {
   "cell_type": "code",
   "execution_count": 1,
   "metadata": {
    "cellView": "form",
    "colab": {},
    "colab_type": "code",
    "id": "BZSlp3DAjdYf"
   },
   "outputs": [
    {
     "name": "stderr",
     "output_type": "stream",
     "text": [
      "Using TensorFlow backend.\n"
     ]
    },
    {
     "name": "stdout",
     "output_type": "stream",
     "text": [
      "[INFO] All packages imported successfully\n"
     ]
    }
   ],
   "source": [
    "import tensorflow as tf\n",
    "import matplotlib.pyplot as plt\n",
    "from tensorflow.keras.datasets import mnist\n",
    "from keras.utils import np_utils\n",
    "from sklearn.preprocessing import LabelBinarizer\n",
    "from sklearn.metrics import classification_report\n",
    "from keras.preprocessing.image import img_to_array\n",
    "import numpy as np\n",
    "from sklearn.metrics import confusion_matrix\n",
    "import sklearn\n",
    "import cv2\n",
    "print(\"[INFO] All packages imported successfully\")\n"
   ]
  },
  {
   "cell_type": "code",
   "execution_count": 2,
   "metadata": {
    "colab": {},
    "colab_type": "code",
    "id": "7FP5258xjs-v"
   },
   "outputs": [
    {
     "name": "stdout",
     "output_type": "stream",
     "text": [
      "[INFO] Original mnist dataset of trainData shape (60000, 28, 28)\n",
      "[INFO] Original mnist dataset of trainLabels shape (60000,)\n",
      "[INFO] Original mnist dataset of testData shape (10000, 28, 28)\n",
      "[INFO] Original mnist dataset of testLabels shape (10000,)\n"
     ]
    }
   ],
   "source": [
    "#Load MNIST dataset\n",
    "mnist = tf.keras.datasets.mnist\n",
    "\n",
    "(trainX, trainY), (testX, testY) = mnist.load_data()\n",
    "trainX, testX = trainX / 255.0, testX / 255.0\n",
    "print(\"[INFO] Original {} dataset of trainData shape {}\".format(\"mnist\",trainX.shape))\n",
    "print(\"[INFO] Original {} dataset of trainLabels shape {}\".format(\"mnist\",trainY.shape))\n",
    "print(\"[INFO] Original {} dataset of testData shape {}\".format(\"mnist\",testX.shape))\n",
    "print(\"[INFO] Original {} dataset of testLabels shape {}\".format(\"mnist\",testY.shape))\n",
    "epochs_num=10"
   ]
  },
  {
   "cell_type": "code",
   "execution_count": 3,
   "metadata": {},
   "outputs": [
    {
     "name": "stdout",
     "output_type": "stream",
     "text": [
      "['0' '1' '2' '3' '4' '5' '6' '7' '8' '9']\n"
     ]
    }
   ],
   "source": [
    "#get labels from dataset\n",
    "labels =  sklearn.utils.multiclass.unique_labels(trainY)\n",
    "labels=labels.astype(str)\n",
    "print(labels)"
   ]
  },
  {
   "cell_type": "code",
   "execution_count": 4,
   "metadata": {},
   "outputs": [],
   "source": [
    "#function to draw grid of images\n",
    "def drarwGridOfImagesFromImagesData(images):\n",
    "\n",
    "  # Parameters for our graph; we'll output images in a 4x4 configuration\n",
    "  nrows = 4\n",
    "  ncols = 4\n",
    "\n",
    "  pic_index = 0 # Index for iterating over images\n",
    "\n",
    "  #display a batch of 4*4 pictures\n",
    "\n",
    "  # Set up matplotlib fig, and size it to fit 4x4 pics\n",
    "  fig = plt.gcf()\n",
    "  fig.set_size_inches(ncols*4, nrows*4)\n",
    "\n",
    "  for i in range(16):\n",
    "    # Set up subplot; subplot indices start at 1\n",
    "    sp = plt.subplot(nrows, ncols, i + 1)\n",
    "    sp.axis('Off') # Don't show axes (or gridlines)\n",
    "    img = images[i]\n",
    "\n",
    "    plt.imshow(img)\n",
    "\n",
    "  plt.show()\n"
   ]
  },
  {
   "cell_type": "code",
   "execution_count": 10,
   "metadata": {},
   "outputs": [
    {
     "data": {
      "image/png": "[encoded data removed]",
      "text/plain": [
       "<Figure size 1152x1152 with 16 Axes>"
      ]
     },
     "metadata": {
      "needs_background": "light"
     },
     "output_type": "display_data"
    }
   ],
   "source": [
    "#Prepare and draw images in grid \n",
    "images=[]\n",
    "for  i in range(16):\n",
    "    image=trainX[i]\n",
    "    image = cv2.merge([image] * 3)\n",
    "    images.append(image)\n",
    "\n",
    "drarwGridOfImagesFromImagesData(images)"
   ]
  },
  {
   "cell_type": "code",
   "execution_count": 5,
   "metadata": {},
   "outputs": [
    {
     "name": "stdout",
     "output_type": "stream",
     "text": [
      "[INFO]  trainData shape (60000, 28, 28, 1)\n",
      "[INFO]  testData shape (10000, 28, 28, 1)\n"
     ]
    }
   ],
   "source": [
    "trainX = np.expand_dims(trainX, axis=-1)\n",
    "testX = np.expand_dims(testX, axis=-1)\n",
    "print(\"[INFO]  trainData shape {}\".format(trainX.shape))\n",
    "print(\"[INFO]  testData shape {}\".format(testX.shape))"
   ]
  },
  {
   "cell_type": "code",
   "execution_count": 6,
   "metadata": {},
   "outputs": [
    {
     "name": "stdout",
     "output_type": "stream",
     "text": [
      "Model: \"sequential\"\n",
      "_________________________________________________________________\n",
      "Layer (type)                 Output Shape              Param #   \n",
      "=================================================================\n",
      "conv2d (Conv2D)              (None, 26, 26, 16)        160       \n",
      "_________________________________________________________________\n",
      "max_pooling2d (MaxPooling2D) (None, 13, 13, 16)        0         \n",
      "_________________________________________________________________\n",
      "conv2d_1 (Conv2D)            (None, 11, 11, 32)        4640      \n",
      "_________________________________________________________________\n",
      "max_pooling2d_1 (MaxPooling2 (None, 5, 5, 32)          0         \n",
      "_________________________________________________________________\n",
      "conv2d_2 (Conv2D)            (None, 3, 3, 64)          18496     \n",
      "_________________________________________________________________\n",
      "max_pooling2d_2 (MaxPooling2 (None, 1, 1, 64)          0         \n",
      "_________________________________________________________________\n",
      "flatten (Flatten)            (None, 64)                0         \n",
      "_________________________________________________________________\n",
      "dense (Dense)                (None, 512)               33280     \n",
      "_________________________________________________________________\n",
      "dense_1 (Dense)              (None, 10)                5130      \n",
      "=================================================================\n",
      "Total params: 61,706\n",
      "Trainable params: 61,706\n",
      "Non-trainable params: 0\n",
      "_________________________________________________________________\n"
     ]
    }
   ],
   "source": [
    "model = tf.keras.models.Sequential([\n",
    "# Note the input shape is the desired size of the image 150x150 with 3 bytes color\n",
    "tf.keras.layers.Conv2D(16, (3,3), activation='relu', input_shape=(28,28, 1)),\n",
    "tf.keras.layers.MaxPooling2D(2,2),\n",
    "tf.keras.layers.Conv2D(32, (3,3), activation='relu'),\n",
    "tf.keras.layers.MaxPooling2D(2,2), \n",
    "tf.keras.layers.Conv2D(64, (3,3), activation='relu'), \n",
    "tf.keras.layers.MaxPooling2D(2,2),\n",
    "# Flatten the results to feed into a DNN\n",
    "tf.keras.layers.Flatten(), \n",
    "# 512 neuron hidden layer\n",
    "tf.keras.layers.Dense(512, activation='relu'), \n",
    "tf.keras.layers.Dense(10, activation=\"softmax\")  ])\n",
    "model.summary()"
   ]
  },
  {
   "cell_type": "code",
   "execution_count": 9,
   "metadata": {},
   "outputs": [
    {
     "name": "stdout",
     "output_type": "stream",
     "text": [
      "[INFO] model compiled successfully\n"
     ]
    }
   ],
   "source": [
    "model.compile(optimizer='adam',\n",
    "              loss='sparse_categorical_crossentropy',\n",
    "              metrics=['accuracy'])\n",
    "print(\"[INFO] model compiled successfully\")"
   ]
  },
  {
   "cell_type": "code",
   "execution_count": 10,
   "metadata": {},
   "outputs": [
    {
     "name": "stdout",
     "output_type": "stream",
     "text": [
      "Train on 60000 samples, validate on 10000 samples\n",
      "Epoch 1/10\n",
      "60000/60000 [==============================] - 43s 712us/sample - loss: 0.2162 - accuracy: 0.9319 - val_loss: 0.0945 - val_accuracy: 0.9709\n",
      "Epoch 2/10\n",
      "60000/60000 [==============================] - 37s 622us/sample - loss: 0.0775 - accuracy: 0.9769 - val_loss: 0.0957 - val_accuracy: 0.9688\n",
      "Epoch 3/10\n",
      "60000/60000 [==============================] - 40s 668us/sample - loss: 0.0559 - accuracy: 0.9827 - val_loss: 0.0530 - val_accuracy: 0.9830\n",
      "Epoch 4/10\n",
      "60000/60000 [==============================] - 44s 726us/sample - loss: 0.0455 - accuracy: 0.9858 - val_loss: 0.0535 - val_accuracy: 0.9835\n",
      "Epoch 5/10\n",
      "60000/60000 [==============================] - 44s 727us/sample - loss: 0.0370 - accuracy: 0.9883 - val_loss: 0.0481 - val_accuracy: 0.9870\n",
      "Epoch 6/10\n",
      "60000/60000 [==============================] - 43s 714us/sample - loss: 0.0320 - accuracy: 0.9893 - val_loss: 0.0536 - val_accuracy: 0.9849\n",
      "Epoch 7/10\n",
      "60000/60000 [==============================] - 43s 723us/sample - loss: 0.0272 - accuracy: 0.9911 - val_loss: 0.0567 - val_accuracy: 0.9841\n",
      "Epoch 8/10\n",
      "60000/60000 [==============================] - 42s 695us/sample - loss: 0.0233 - accuracy: 0.9922 - val_loss: 0.0430 - val_accuracy: 0.9876\n",
      "Epoch 9/10\n",
      "60000/60000 [==============================] - 43s 710us/sample - loss: 0.0213 - accuracy: 0.9933 - val_loss: 0.0477 - val_accuracy: 0.9870\n",
      "Epoch 10/10\n",
      "60000/60000 [==============================] - 43s 711us/sample - loss: 0.0174 - accuracy: 0.9943 - val_loss: 0.0685 - val_accuracy: 0.9836\n"
     ]
    }
   ],
   "source": [
    "history=model.fit(trainX, trainY, validation_data=(testX, testY),epochs=epochs_num)"
   ]
  },
  {
   "cell_type": "code",
   "execution_count": 11,
   "metadata": {},
   "outputs": [],
   "source": [
    "#draw training curves\t\n",
    "acc      = history.history[     'accuracy' ]\n",
    "val_acc  = history.history[ 'val_accuracy' ]\n",
    "loss     = history.history[    'loss' ]\n",
    "val_loss = history.history['val_loss' ]   \n",
    "epochs   = range(len(acc)) # Get number of epochs\n",
    "plt.style.use(\"ggplot\")"
   ]
  },
  {
   "cell_type": "code",
   "execution_count": 12,
   "metadata": {},
   "outputs": [
    {
     "data": {
      "image/png": "[encoded data removed]",
      "text/plain": [
       "<Figure size 432x288 with 1 Axes>"
      ]
     },
     "metadata": {},
     "output_type": "display_data"
    }
   ],
   "source": [
    "plt.figure()\n",
    "plt.plot(epochs, loss, label=\"train_loss\")\n",
    "plt.plot(epochs, val_loss, label=\"val_loss\")\n",
    "plt.title(\"MNIST Training  Loss\")  \n",
    "epochs   = range(len(acc)) # Get number of epochs\n",
    "plt.style.use(\"ggplot\")\n",
    "plt.legend(loc=\"lower left\")\n",
    "plt.show()\n"
   ]
  },
  {
   "cell_type": "code",
   "execution_count": 13,
   "metadata": {},
   "outputs": [
    {
     "data": {
      "image/png": "[encoded data removed]",
      "text/plain": [
       "<Figure size 432x288 with 1 Axes>"
      ]
     },
     "metadata": {},
     "output_type": "display_data"
    }
   ],
   "source": [
    "plt.figure()\n",
    "plt.title(\"MNIST Training  Accuracy\")\n",
    "plt.xlabel(\"Epoch #\")\n",
    "plt.ylabel(\"Loss/Accuracy\")\n",
    "epochs   = range(len(acc)) # Get number of epochs\n",
    "plt.plot(epochs, acc, label=\"train_acc\")\n",
    "plt.plot(epochs, val_acc, label=\"val_acc\")\n",
    "plt.style.use(\"ggplot\")\n",
    "plt.legend(loc=\"lower left\")\n",
    "plt.show()\n"
   ]
  },
  {
   "cell_type": "code",
   "execution_count": 15,
   "metadata": {},
   "outputs": [
    {
     "name": "stdout",
     "output_type": "stream",
     "text": [
      "[INFO] evaluating network...\n",
      "              precision    recall  f1-score   support\n",
      "\n",
      "           0       0.98      0.99      0.99       980\n",
      "           1       1.00      0.99      0.99      1135\n",
      "           2       0.95      0.99      0.97      1032\n",
      "           3       0.98      1.00      0.99      1010\n",
      "           4       0.99      0.97      0.98       982\n",
      "           5       1.00      0.97      0.99       892\n",
      "           6       0.99      0.98      0.99       958\n",
      "           7       0.99      0.97      0.98      1028\n",
      "           8       0.99      0.97      0.98       974\n",
      "           9       0.97      0.99      0.98      1009\n",
      "\n",
      "   micro avg       0.98      0.98      0.98     10000\n",
      "   macro avg       0.98      0.98      0.98     10000\n",
      "weighted avg       0.98      0.98      0.98     10000\n",
      "\n",
      "[[ 975    0    1    0    0    0    1    1    0    2]\n",
      " [   0 1127    0    2    1    0    3    2    0    0]\n",
      " [   3    0 1021    2    0    0    2    4    0    0]\n",
      " [   0    0    2 1008    0    0    0    0    0    0]\n",
      " [   0    2    5    0  949    0    6    0    0   20]\n",
      " [   5    0    0   12    0  869    1    1    2    2]\n",
      " [   8    1    1    0    2    2  943    0    1    0]\n",
      " [   1    1   21    2    0    0    0 1001    0    2]\n",
      " [   0    0   20    4    0    0    0    1  944    5]\n",
      " [   2    0    0    1    2    0    0    3    2  999]]\n",
      "['0' '1' '2' '3' '4' '5' '6' '7' '8' '9']\n"
     ]
    }
   ],
   "source": [
    "# evaluate the network\n",
    "print(\"[INFO] evaluating network...\")\n",
    "predictions = model.predict(testX, batch_size=32)\n",
    "y_pred=predictions.argmax(axis=1)\n",
    "print(classification_report(testY,y_pred, target_names=labels))\n",
    "print(confusion_matrix(testY, y_pred))\n",
    "print(labels)"
   ]
  },
  {
   "cell_type": "code",
   "execution_count": null,
   "metadata": {},
   "outputs": [],
   "source": []
  }
 ],
 "metadata": {
  "colab": {
   "collapsed_sections": [
    "rX8mhOLljYeM"
   ],
   "name": "beginner.ipynb",
   "private_outputs": true,
   "provenance": [],
   "toc_visible": true
  },
  "kernelspec": {
   "display_name": "Python 3",
   "language": "python",
   "name": "python3"
  },
  "language_info": {
   "codemirror_mode": {
    "name": "ipython",
    "version": 3
   },
   "file_extension": ".py",
   "mimetype": "text/x-python",
   "name": "python",
   "nbconvert_exporter": "python",
   "pygments_lexer": "ipython3",
   "version": "3.6.8"
  }
 },
 "nbformat": 4,
 "nbformat_minor": 1
}
