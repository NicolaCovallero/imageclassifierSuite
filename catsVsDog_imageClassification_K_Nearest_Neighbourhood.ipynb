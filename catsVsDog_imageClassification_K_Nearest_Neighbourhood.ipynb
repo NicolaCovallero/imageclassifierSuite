{
 "cells": [
  {
   "cell_type": "markdown",
   "metadata": {},
   "source": [
    "# Image Classification K_Nearest Neighbourhood\n",
    "\n"
   ]
  },
  {
   "cell_type": "markdown",
   "metadata": {},
   "source": [
    "This sample code train an image classifier model using K Nearest Neighbourhood to  classify if an image is a Dog or a Cat.\n",
    "The first cell will downlad  a git repo that include the dataset of cats and dogs.\n",
    "\n",
    "\n",
    "\n",
    "![alt text](https://raw.githubusercontent.com/Walid-Ahmed/imageclassifierSuite/master/sampleImages/graphcdw_thumb.png)\n",
    "\n",
    "\n",
    "To learn more about KNN you can check the following  [link](https://www.analyticsvidhya.com/blog/2018/03/introduction-k-neighbours-algorithm-clustering/)\n",
    "\n",
    "The results as expected is not good due to the limitations of KNN! "
   ]
  },
  {
   "cell_type": "code",
   "execution_count": 1,
   "metadata": {},
   "outputs": [
    {
     "name": "stdout",
     "output_type": "stream",
     "text": [
      "[INFO] Packages imported sucessfully\n"
     ]
    }
   ],
   "source": [
    "import cv2\n",
    "import os\n",
    "import numpy as np\n",
    "from sklearn.neighbors import KNeighborsClassifier\n",
    "from sklearn.preprocessing import LabelEncoder\n",
    "from sklearn.model_selection import train_test_split\n",
    "from sklearn.metrics import classification_report\n",
    "print(\"[INFO] Packages imported sucessfully\")\n"
   ]
  },
  {
   "cell_type": "code",
   "execution_count": 2,
   "metadata": {},
   "outputs": [],
   "source": [
    "datasetDir=os.path.join(\"datasets\",\"cats_and_dogs\")\n",
    "width,height=256,256"
   ]
  },
  {
   "cell_type": "code",
   "execution_count": 3,
   "metadata": {},
   "outputs": [
    {
     "name": "stdout",
     "output_type": "stream",
     "text": [
      "['dogs', 'cats']\n",
      "[INFO] Classes  to be classified are ['dogs', 'cats']\n",
      "[INFO] Shape OF trainX (2000, 196608)\n",
      "[INFO] shape OF trainY (2000,)\n"
     ]
    }
   ],
   "source": [
    "trainX=[]\n",
    "trainY=[]\n",
    "trainingDir=os.path.join(datasetDir,\"train\")\n",
    "\n",
    "dirs=os.listdir(trainingDir) \n",
    "if \".DS_Store\" in dirs:\n",
    "    dirs.remove(\".DS_Store\")\n",
    "for dir in dirs:\n",
    "    files=os.listdir(os.path.join(trainingDir,dir)) \n",
    "    for file in files:\n",
    "        if (file==\".DS_Store\"):\n",
    "            continue\n",
    "        fileFullPath=os.path.join(trainingDir,dir,file)\n",
    "        #print(\"[INFO] Reading file {}\".format(fileFullPath))\n",
    "        img=cv2.imread(fileFullPath)\n",
    "        img=cv2.resize(img,(width,height))\n",
    "        img=img.flatten()\n",
    "        trainX.append(img)\n",
    "        trainY.append(dir)\n",
    "\n",
    "trainX=np.asarray(trainX)\n",
    "trainX=trainX.astype(\"float32\") / 255.0\n",
    "trainY=np.asarray(trainY)\n",
    "\n",
    "le = LabelEncoder()\n",
    "trainY = le.fit_transform(trainY)\n",
    "\n",
    "print(\"[INFO] Classes  to be classified are {}\".format(dirs))\n",
    "print(\"[INFO] Shape OF trainX {}\".format(trainX.shape) ) \n",
    "print(\"[INFO] shape OF trainY {}\".format(trainY.shape) ) \n",
    "\n",
    "    "
   ]
  },
  {
   "cell_type": "code",
   "execution_count": 4,
   "metadata": {},
   "outputs": [
    {
     "name": "stdout",
     "output_type": "stream",
     "text": [
      "[INFO] Model created and fitted successfully\n"
     ]
    }
   ],
   "source": [
    "model = KNeighborsClassifier(n_neighbors=10)\n",
    "model.fit(trainX, trainY) \n",
    "print(\"[INFO] Model created and fitted successfully\")"
   ]
  },
  {
   "cell_type": "code",
   "execution_count": 7,
   "metadata": {},
   "outputs": [
    {
     "name": "stdout",
     "output_type": "stream",
     "text": [
      "[INFO] Reading file TestImages/test_images_cats_and_dogs/dogs/dog_23.jpeg\n",
      "[INFO] Reading file TestImages/test_images_cats_and_dogs/cats/cat_44.jpeg\n",
      "[INFO] Reading file TestImages/test_images_cats_and_dogs/cats/cat_44.png\n",
      "[INFO] Input test data of shape (3, 196608)\n",
      "[INFO] Output test data of shape (3,)\n"
     ]
    }
   ],
   "source": [
    "datasetDir=\"TestImages\"\n",
    "\n",
    "testX=[]\n",
    "testY=[]\n",
    "testDir=os.path.join(datasetDir,\"test_images_cats_and_dogs\")\n",
    "dirs=os.listdir(testDir) \n",
    "if \".DS_Store\" in dirs:\n",
    "    dirs.remove(\".DS_Store\")\n",
    "for dir in dirs:\n",
    "    files=os.listdir(os.path.join(testDir,dir)) \n",
    "    if \".DS_Store\" in dirs:\n",
    "        dirs.remove(\".DS_Store\")\n",
    "    for file in files:\n",
    "       if (file==\".DS_Store\"):\n",
    "            continue\n",
    "       fileFullPath=os.path.join(testDir,dir,file)\n",
    "       print(\"[INFO] Reading file {}\".format(fileFullPath))\n",
    "       img=cv2.imread(fileFullPath)\n",
    "       img=cv2.resize(img,(width,height))\n",
    "       img=img.flatten()\n",
    "       testX.append(img)\n",
    "       testY.append(dir)\n",
    "\n",
    "\n",
    "\n",
    "testX=np.asarray(testX)\n",
    "testY=np.asarray(testY)\n",
    "\n",
    "testX=testX.astype(\"float32\") / 255.0\n",
    "\n",
    "le = LabelEncoder()\n",
    "testY = le.fit_transform(testY)\n",
    "\n",
    "print(\"[INFO] Input test data of shape {}\".format(testX.shape)) \n",
    "print(\"[INFO] Output test data of shape {}\".format(testY.shape)) \n",
    "\n"
   ]
  },
  {
   "cell_type": "code",
   "execution_count": 8,
   "metadata": {},
   "outputs": [
    {
     "name": "stdout",
     "output_type": "stream",
     "text": [
      "              precision    recall  f1-score   support\n",
      "\n",
      "        cats       1.00      0.50      0.67         2\n",
      "        dogs       0.50      1.00      0.67         1\n",
      "\n",
      "   micro avg       0.67      0.67      0.67         3\n",
      "   macro avg       0.75      0.75      0.67         3\n",
      "weighted avg       0.83      0.67      0.67         3\n",
      "\n"
     ]
    }
   ],
   "source": [
    "print(classification_report(testY, model.predict(testX),target_names=le.classes_))"
   ]
  }
 ],
 "metadata": {
  "kernelspec": {
   "display_name": "Python 3",
   "language": "python",
   "name": "python3"
  },
  "language_info": {
   "codemirror_mode": {
    "name": "ipython",
    "version": 3
   },
   "file_extension": ".py",
   "mimetype": "text/x-python",
   "name": "python",
   "nbconvert_exporter": "python",
   "pygments_lexer": "ipython3",
   "version": "3.6.8"
  }
 },
 "nbformat": 4,
 "nbformat_minor": 2
}
